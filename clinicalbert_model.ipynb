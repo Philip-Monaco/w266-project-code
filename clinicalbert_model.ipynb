{
  "nbformat": 4,
  "nbformat_minor": 0,
  "metadata": {
    "colab": {
      "provenance": [],
      "machine_shape": "hm",
      "gpuType": "A100"
    },
    "kernelspec": {
      "name": "python3",
      "display_name": "Python 3"
    },
    "language_info": {
      "name": "python"
    },
    "accelerator": "GPU"
  },
  "cells": [
    {
      "cell_type": "code",
      "execution_count": null,
      "metadata": {
        "colab": {
          "base_uri": "https://localhost:8080/"
        },
        "id": "LhaHVvfxgIFk",
        "outputId": "54125c76-6ccc-4458-81c4-eb7350351298"
      },
      "outputs": [
        {
          "output_type": "stream",
          "name": "stdout",
          "text": [
            "Drive already mounted at /content/drive; to attempt to forcibly remount, call drive.mount(\"/content/drive\", force_remount=True).\n"
          ]
        }
      ],
      "source": [
        "from google.colab import drive\n",
        "\n",
        "# Mount Google Drive\n",
        "drive.mount('/content/drive')"
      ]
    },
    {
      "cell_type": "code",
      "source": [
        "!pip install datasets"
      ],
      "metadata": {
        "colab": {
          "base_uri": "https://localhost:8080/"
        },
        "id": "C66X5EHMs8Yu",
        "outputId": "1188512e-0c9c-4418-f18c-1c70cd4df398"
      },
      "execution_count": null,
      "outputs": [
        {
          "output_type": "stream",
          "name": "stdout",
          "text": [
            "Requirement already satisfied: datasets in /usr/local/lib/python3.10/dist-packages (3.2.0)\n",
            "Requirement already satisfied: filelock in /usr/local/lib/python3.10/dist-packages (from datasets) (3.16.1)\n",
            "Requirement already satisfied: numpy>=1.17 in /usr/local/lib/python3.10/dist-packages (from datasets) (1.26.4)\n",
            "Requirement already satisfied: pyarrow>=15.0.0 in /usr/local/lib/python3.10/dist-packages (from datasets) (17.0.0)\n",
            "Requirement already satisfied: dill<0.3.9,>=0.3.0 in /usr/local/lib/python3.10/dist-packages (from datasets) (0.3.8)\n",
            "Requirement already satisfied: pandas in /usr/local/lib/python3.10/dist-packages (from datasets) (2.2.2)\n",
            "Requirement already satisfied: requests>=2.32.2 in /usr/local/lib/python3.10/dist-packages (from datasets) (2.32.3)\n",
            "Requirement already satisfied: tqdm>=4.66.3 in /usr/local/lib/python3.10/dist-packages (from datasets) (4.66.6)\n",
            "Requirement already satisfied: xxhash in /usr/local/lib/python3.10/dist-packages (from datasets) (3.5.0)\n",
            "Requirement already satisfied: multiprocess<0.70.17 in /usr/local/lib/python3.10/dist-packages (from datasets) (0.70.16)\n",
            "Requirement already satisfied: fsspec<=2024.9.0,>=2023.1.0 in /usr/local/lib/python3.10/dist-packages (from fsspec[http]<=2024.9.0,>=2023.1.0->datasets) (2024.9.0)\n",
            "Requirement already satisfied: aiohttp in /usr/local/lib/python3.10/dist-packages (from datasets) (3.11.10)\n",
            "Requirement already satisfied: huggingface-hub>=0.23.0 in /usr/local/lib/python3.10/dist-packages (from datasets) (0.26.5)\n",
            "Requirement already satisfied: packaging in /usr/local/lib/python3.10/dist-packages (from datasets) (24.2)\n",
            "Requirement already satisfied: pyyaml>=5.1 in /usr/local/lib/python3.10/dist-packages (from datasets) (6.0.2)\n",
            "Requirement already satisfied: aiohappyeyeballs>=2.3.0 in /usr/local/lib/python3.10/dist-packages (from aiohttp->datasets) (2.4.4)\n",
            "Requirement already satisfied: aiosignal>=1.1.2 in /usr/local/lib/python3.10/dist-packages (from aiohttp->datasets) (1.3.2)\n",
            "Requirement already satisfied: async-timeout<6.0,>=4.0 in /usr/local/lib/python3.10/dist-packages (from aiohttp->datasets) (4.0.3)\n",
            "Requirement already satisfied: attrs>=17.3.0 in /usr/local/lib/python3.10/dist-packages (from aiohttp->datasets) (24.2.0)\n",
            "Requirement already satisfied: frozenlist>=1.1.1 in /usr/local/lib/python3.10/dist-packages (from aiohttp->datasets) (1.5.0)\n",
            "Requirement already satisfied: multidict<7.0,>=4.5 in /usr/local/lib/python3.10/dist-packages (from aiohttp->datasets) (6.1.0)\n",
            "Requirement already satisfied: propcache>=0.2.0 in /usr/local/lib/python3.10/dist-packages (from aiohttp->datasets) (0.2.1)\n",
            "Requirement already satisfied: yarl<2.0,>=1.17.0 in /usr/local/lib/python3.10/dist-packages (from aiohttp->datasets) (1.18.3)\n",
            "Requirement already satisfied: typing-extensions>=3.7.4.3 in /usr/local/lib/python3.10/dist-packages (from huggingface-hub>=0.23.0->datasets) (4.12.2)\n",
            "Requirement already satisfied: charset-normalizer<4,>=2 in /usr/local/lib/python3.10/dist-packages (from requests>=2.32.2->datasets) (3.4.0)\n",
            "Requirement already satisfied: idna<4,>=2.5 in /usr/local/lib/python3.10/dist-packages (from requests>=2.32.2->datasets) (3.10)\n",
            "Requirement already satisfied: urllib3<3,>=1.21.1 in /usr/local/lib/python3.10/dist-packages (from requests>=2.32.2->datasets) (2.2.3)\n",
            "Requirement already satisfied: certifi>=2017.4.17 in /usr/local/lib/python3.10/dist-packages (from requests>=2.32.2->datasets) (2024.8.30)\n",
            "Requirement already satisfied: python-dateutil>=2.8.2 in /usr/local/lib/python3.10/dist-packages (from pandas->datasets) (2.8.2)\n",
            "Requirement already satisfied: pytz>=2020.1 in /usr/local/lib/python3.10/dist-packages (from pandas->datasets) (2024.2)\n",
            "Requirement already satisfied: tzdata>=2022.7 in /usr/local/lib/python3.10/dist-packages (from pandas->datasets) (2024.2)\n",
            "Requirement already satisfied: six>=1.5 in /usr/local/lib/python3.10/dist-packages (from python-dateutil>=2.8.2->pandas->datasets) (1.17.0)\n"
          ]
        }
      ]
    },
    {
      "cell_type": "code",
      "source": [
        "from sklearn.metrics import precision_score, recall_score, f1_score\n",
        "\n",
        "def compute_metrics(pred):\n",
        "    \"\"\"\n",
        "    Computes precision, recall, and F1-score for the predictions.\n",
        "\n",
        "    Parameters:\n",
        "    - pred: The output predictions from the Trainer.\n",
        "\n",
        "    Returns:\n",
        "    - A dictionary containing precision, recall, and F1-score.\n",
        "    \"\"\"\n",
        "    predictions = pred.predictions.argmax(-1)\n",
        "    labels = pred.label_ids\n",
        "\n",
        "    # Flatten predictions and labels to ignore padding tokens (-100)\n",
        "    predictions_flat = predictions.flatten()\n",
        "    labels_flat = labels.flatten()\n",
        "\n",
        "    # Remove ignored index (-100) from both predictions and labels\n",
        "    valid_indices = labels_flat != -100\n",
        "    predictions_flat = predictions_flat[valid_indices]\n",
        "    labels_flat = labels_flat[valid_indices]\n",
        "\n",
        "    # Calculate metrics\n",
        "    tp = ((predictions_flat == labels_flat) & (labels_flat > 0)).sum()\n",
        "    fp = ((predictions_flat > 0) & (predictions_flat != labels_flat)).sum()\n",
        "    fn = ((predictions_flat != labels_flat) & (labels_flat > 0)).sum()\n",
        "\n",
        "    precision = precision_score(labels_flat, predictions_flat, average=\"macro\", zero_division=0)\n",
        "    recall = recall_score(labels_flat, predictions_flat, average=\"macro\", zero_division=0)\n",
        "    f1 = f1_score(labels_flat, predictions_flat, average=\"macro\", zero_division=0)\n",
        "\n",
        "    # Print detailed metrics\n",
        "    print(f\"True Positives (TP): {tp}\")\n",
        "    print(f\"False Positives (FP): {fp}\")\n",
        "    print(f\"False Negatives (FN): {fn}\")\n",
        "    print(f\"Precision: {precision:.2f}\")\n",
        "    print(f\"Recall: {recall:.2f}\")\n",
        "    print(f\"F1-Score: {f1:.2f}\")\n",
        "\n",
        "    return {\n",
        "        \"precision\": precision,\n",
        "        \"recall\": recall,\n",
        "        \"f1\": f1\n",
        "    }\n"
      ],
      "metadata": {
        "id": "gw8fT38xw5gT"
      },
      "execution_count": null,
      "outputs": []
    },
    {
      "cell_type": "code",
      "source": [
        "import pandas as pd\n",
        "from datasets import Dataset, DatasetDict\n",
        "from transformers import AutoTokenizer, AutoModelForTokenClassification, TrainingArguments, Trainer\n",
        "from transformers import DataCollatorForTokenClassification\n",
        "import torch\n",
        "import os\n",
        "from tqdm.notebook import tqdm\n",
        "from joblib import dump, load\n",
        "\n",
        "device = \"cuda\" if torch.cuda.is_available() else \"cpu\"\n",
        "os.environ[\"WANDB_DISABLED\"] = \"true\"\n",
        "\n",
        "def load_dataset_from_joblib(file_path):\n",
        "    dataset = load(file_path)\n",
        "    print(f\"Dataset loaded from {file_path}\")\n",
        "    return dataset\n",
        "\n",
        "# Load the dataset\n",
        "dataset = load_dataset_from_joblib(\"/content/drive/MyDrive/preprocessed_dataset.joblib\")\n",
        "dataset = dataset.remove_columns([\"offset_mapping\"])\n",
        "# Split train/test\n",
        "dataset = dataset.train_test_split(test_size=0.2)\n",
        "print(dataset[\"train\"][0])\n",
        "print(type(dataset[\"train\"][0][\"input_ids\"]))  # Should be list of integers\n",
        "\n",
        "#\n",
        "# # Load ClinicalBERT for token classification\n",
        "model = AutoModelForTokenClassification.from_pretrained(\"medicalai/ClinicalBERT\", num_labels=3)  # 3 = B-Symptom, I-Symptom, O\n",
        "\n",
        "# Training setup\n",
        "args = TrainingArguments(\n",
        "    output_dir=\"/content/drive/MyDrive/results\",\n",
        "    evaluation_strategy=\"epoch\",\n",
        "    learning_rate=2e-5,\n",
        "    warmup_steps=500,\n",
        "    per_device_train_batch_size=32,\n",
        "    per_device_eval_batch_size=16,\n",
        "    num_train_epochs=10,\n",
        "    weight_decay=0.01,\n",
        "    fp16=True,\n",
        "    # logging_dir=\"/content/drive/MyDrive/logs\",\n",
        "    # dataloader_num_workers=4,\n",
        "    remove_unused_columns=False  # Prevents column mismatch errors\n",
        ")\n",
        "\n",
        "data_collator = DataCollatorForTokenClassification(tokenizer)\n",
        "trainer = Trainer(\n",
        "    model=model,\n",
        "    args=args,\n",
        "    train_dataset=dataset[\"train\"],\n",
        "    eval_dataset=dataset[\"test\"],\n",
        "    data_collator=data_collator,\n",
        "    compute_metrics=compute_metrics,\n",
        "    tokenizer=tokenizer,\n",
        ")\n",
        "\n",
        "# Train and evaluate\n",
        "trainer.train()\n",
        "trainer.evaluate()\n"
      ],
      "metadata": {
        "colab": {
          "base_uri": "https://localhost:8080/",
          "height": 1000
        },
        "id": "KBoCp8O_hBCr",
        "outputId": "e7c82775-f6a6-4394-c114-00816f72ed3f"
      },
      "execution_count": null,
      "outputs": [
        {
          "output_type": "stream",
          "name": "stderr",
          "text": [
            "Some weights of DistilBertForTokenClassification were not initialized from the model checkpoint at medicalai/ClinicalBERT and are newly initialized: ['classifier.bias', 'classifier.weight']\n",
            "You should probably TRAIN this model on a down-stream task to be able to use it for predictions and inference.\n",
            "/usr/local/lib/python3.10/dist-packages/transformers/training_args.py:1568: FutureWarning: `evaluation_strategy` is deprecated and will be removed in version 4.46 of 🤗 Transformers. Use `eval_strategy` instead\n",
            "  warnings.warn(\n",
            "Using the `WANDB_DISABLED` environment variable is deprecated and will be removed in v5. Use the --report_to flag to control the integrations used for logging result (for instance --report_to none).\n"
          ]
        },
        {
          "output_type": "stream",
          "name": "stdout",
          "text": [
            "Dataset loaded from /content/drive/MyDrive/preprocessed_dataset.joblib\n",
            "{'input_ids': [101, 25903, 131, 25923, 40167, 12013, 10161, 49619, 10198, 16587, 44374, 10107, 10493, 10465, 21559, 10108, 10220, 54047, 56859, 10162, 105377, 113, 28756, 10237, 114, 10106, 25965, 10169, 63256, 10415, 31562, 10473, 10393, 11736, 25974, 68694, 117, 11198, 15165, 12713, 15794, 20034, 10280, 10111, 120, 10345, 26981, 85833, 10108, 57254, 17440, 12563, 117, 10319, 11387, 14107, 10114, 10840, 39017, 27057, 57254, 21911, 119, 169, 10751, 71223, 172, 58577, 12772, 117, 10306, 118, 183, 14220, 15794, 40167, 12013, 10161, 113, 183, 14526, 114, 117, 10393, 10590, 19989, 10114, 10529, 11284, 81654, 40582, 119, 10531, 14687, 10134, 92311, 10114, 37284, 10105, 21274, 10108, 183, 14526, 10135, 10493, 10465, 28756, 10237, 21559, 10111, 57254, 17440, 12563, 10106, 16316, 10108, 16626, 10345, 10211, 110547, 10336, 63256, 10415, 19367, 119, 27413, 131, 104817, 67968, 10309, 16106, 10554, 28088, 74755, 81334, 18309, 113, 182, 10686, 117, 182, 134, 11171, 114, 10345, 48201, 11008, 118, 19301, 113, 48201, 11008, 117, 182, 134, 10306, 114, 119, 10105, 22528, 12296, 106925, 10415, 99142, 82801, 10114, 10110, 100586, 28756, 10237, 23658, 11046, 119, 77776, 20750, 10662, 10105, 15148, 10108, 99142, 82801, 106925, 11809, 117, 13877, 10108, 10105, 182, 10686, 10111, 48201, 11008, 67968, 12296, 67802, 10107, 10108, 183, 14526, 113, 11003, 13465, 10178, 16118, 114, 132, 10105, 10684, 13877, 10309, 13507, 27404, 10142, 10709, 20750, 119, 58992, 117, 10105, 21379, 38231, 63453, 10171, 10142, 169, 13987, 14488, 10108, 22528, 10309, 56433, 10491, 10142, 10151, 18568, 16222, 15555, 119, 12297, 95583, 10111, 13173, 95937, 10415, 75878, 10107, 10108, 91564, 10111, 57254, 39063, 108525, 10309, 60279, 15916, 102], 'attention_mask': [1, 1, 1, 1, 1, 1, 1, 1, 1, 1, 1, 1, 1, 1, 1, 1, 1, 1, 1, 1, 1, 1, 1, 1, 1, 1, 1, 1, 1, 1, 1, 1, 1, 1, 1, 1, 1, 1, 1, 1, 1, 1, 1, 1, 1, 1, 1, 1, 1, 1, 1, 1, 1, 1, 1, 1, 1, 1, 1, 1, 1, 1, 1, 1, 1, 1, 1, 1, 1, 1, 1, 1, 1, 1, 1, 1, 1, 1, 1, 1, 1, 1, 1, 1, 1, 1, 1, 1, 1, 1, 1, 1, 1, 1, 1, 1, 1, 1, 1, 1, 1, 1, 1, 1, 1, 1, 1, 1, 1, 1, 1, 1, 1, 1, 1, 1, 1, 1, 1, 1, 1, 1, 1, 1, 1, 1, 1, 1, 1, 1, 1, 1, 1, 1, 1, 1, 1, 1, 1, 1, 1, 1, 1, 1, 1, 1, 1, 1, 1, 1, 1, 1, 1, 1, 1, 1, 1, 1, 1, 1, 1, 1, 1, 1, 1, 1, 1, 1, 1, 1, 1, 1, 1, 1, 1, 1, 1, 1, 1, 1, 1, 1, 1, 1, 1, 1, 1, 1, 1, 1, 1, 1, 1, 1, 1, 1, 1, 1, 1, 1, 1, 1, 1, 1, 1, 1, 1, 1, 1, 1, 1, 1, 1, 1, 1, 1, 1, 1, 1, 1, 1, 1, 1, 1, 1, 1, 1, 1, 1, 1, 1, 1, 1, 1, 1, 1, 1, 1, 1, 1, 1, 1, 1, 1, 1, 1, 1, 1, 1, 1, 1, 1, 1, 1, 1, 1], 'labels': [0, 0, 0, 0, 0, 0, 0, 0, 0, 0, 0, 0, 0, 0, 0, 0, 0, 0, 0, 0, 0, 0, 0, 0, 0, 0, 0, 0, 1, 2, 2, 0, 0, 0, 0, 0, 0, 0, 1, 2, 2, 2, 2, 0, 0, 0, 0, 0, 0, 0, 0, 0, 0, 0, 0, 0, 0, 0, 0, 0, 1, 2, 0, 0, 0, 0, 1, 0, 0, 0, 1, 0, 0, 0, 0, 0, 0, 0, 0, 0, 0, 0, 0, 0, 0, 0, 0, 0, 0, 0, 0, 0, 0, 0, 0, 0, 0, 0, 0, 0, 0, 0, 0, 0, 0, 0, 0, 0, 0, 0, 0, 0, 0, 0, 0, 0, 0, 0, 0, 0, 0, 0, 0, 0, 0, 0, 0, 0, 0, 0, 0, 0, 0, 0, 0, 0, 0, 0, 0, 0, 0, 0, 0, 0, 0, 0, 0, 0, 0, 0, 0, 0, 0, 0, 0, 1, 0, 0, 0, 0, 0, 0, 0, 0, 0, 0, 0, 0, 0, 0, 0, 0, 0, 0, 0, 0, 0, 0, 0, 0, 0, 0, 0, 0, 0, 0, 0, 0, 0, 0, 0, 0, 0, 0, 0, 0, 0, 0, 0, 0, 0, 0, 0, 0, 0, 0, 0, 0, 0, 0, 0, 0, 0, 0, 0, 0, 0, 0, 0, 0, 0, 0, 0, 0, 0, 0, 0, 0, 0, 0, 0, 0, 0, 0, 0, 0, 0, 0, 0, 0, 0, 0, 0, 0, 0, 0, 0, 0, 0, 0, 0, 0, 0, 0, 0, 0]}\n",
            "<class 'list'>\n"
          ]
        },
        {
          "output_type": "stream",
          "name": "stderr",
          "text": [
            "<ipython-input-49-5de4a75e4690>:179: FutureWarning: `tokenizer` is deprecated and will be removed in version 5.0.0 for `Trainer.__init__`. Use `processing_class` instead.\n",
            "  trainer = Trainer(\n"
          ]
        },
        {
          "output_type": "display_data",
          "data": {
            "text/plain": [
              "<IPython.core.display.HTML object>"
            ],
            "text/html": [
              "\n",
              "    <div>\n",
              "      \n",
              "      <progress value='2450' max='2450' style='width:300px; height:20px; vertical-align: middle;'></progress>\n",
              "      [2450/2450 03:11, Epoch 10/10]\n",
              "    </div>\n",
              "    <table border=\"1\" class=\"dataframe\">\n",
              "  <thead>\n",
              " <tr style=\"text-align: left;\">\n",
              "      <th>Epoch</th>\n",
              "      <th>Training Loss</th>\n",
              "      <th>Validation Loss</th>\n",
              "      <th>Precision</th>\n",
              "      <th>Recall</th>\n",
              "      <th>F1</th>\n",
              "    </tr>\n",
              "  </thead>\n",
              "  <tbody>\n",
              "    <tr>\n",
              "      <td>1</td>\n",
              "      <td>No log</td>\n",
              "      <td>0.053672</td>\n",
              "      <td>0.880901</td>\n",
              "      <td>0.917916</td>\n",
              "      <td>0.898179</td>\n",
              "    </tr>\n",
              "    <tr>\n",
              "      <td>2</td>\n",
              "      <td>No log</td>\n",
              "      <td>0.003624</td>\n",
              "      <td>0.994337</td>\n",
              "      <td>0.994217</td>\n",
              "      <td>0.994276</td>\n",
              "    </tr>\n",
              "    <tr>\n",
              "      <td>3</td>\n",
              "      <td>0.169800</td>\n",
              "      <td>0.000803</td>\n",
              "      <td>0.998767</td>\n",
              "      <td>0.999216</td>\n",
              "      <td>0.998991</td>\n",
              "    </tr>\n",
              "    <tr>\n",
              "      <td>4</td>\n",
              "      <td>0.169800</td>\n",
              "      <td>0.000564</td>\n",
              "      <td>0.999290</td>\n",
              "      <td>0.999380</td>\n",
              "      <td>0.999335</td>\n",
              "    </tr>\n",
              "    <tr>\n",
              "      <td>5</td>\n",
              "      <td>0.002000</td>\n",
              "      <td>0.000337</td>\n",
              "      <td>0.999905</td>\n",
              "      <td>0.999594</td>\n",
              "      <td>0.999750</td>\n",
              "    </tr>\n",
              "    <tr>\n",
              "      <td>6</td>\n",
              "      <td>0.002000</td>\n",
              "      <td>0.000238</td>\n",
              "      <td>0.999887</td>\n",
              "      <td>0.999698</td>\n",
              "      <td>0.999792</td>\n",
              "    </tr>\n",
              "    <tr>\n",
              "      <td>7</td>\n",
              "      <td>0.000500</td>\n",
              "      <td>0.000196</td>\n",
              "      <td>0.999868</td>\n",
              "      <td>0.999805</td>\n",
              "      <td>0.999837</td>\n",
              "    </tr>\n",
              "    <tr>\n",
              "      <td>8</td>\n",
              "      <td>0.000500</td>\n",
              "      <td>0.000152</td>\n",
              "      <td>0.999912</td>\n",
              "      <td>0.999807</td>\n",
              "      <td>0.999860</td>\n",
              "    </tr>\n",
              "    <tr>\n",
              "      <td>9</td>\n",
              "      <td>0.000300</td>\n",
              "      <td>0.000135</td>\n",
              "      <td>0.999952</td>\n",
              "      <td>0.999852</td>\n",
              "      <td>0.999902</td>\n",
              "    </tr>\n",
              "    <tr>\n",
              "      <td>10</td>\n",
              "      <td>0.000300</td>\n",
              "      <td>0.000134</td>\n",
              "      <td>0.999952</td>\n",
              "      <td>0.999852</td>\n",
              "      <td>0.999902</td>\n",
              "    </tr>\n",
              "  </tbody>\n",
              "</table><p>"
            ]
          },
          "metadata": {}
        },
        {
          "output_type": "stream",
          "name": "stdout",
          "text": [
            "True Positives (TP): 28111\n",
            "False Positives (FP): 5969\n",
            "False Negatives (FN): 3784\n",
            "Precision: 0.88\n",
            "Recall: 0.92\n",
            "F1-Score: 0.90\n",
            "True Positives (TP): 31629\n",
            "False Positives (FP): 266\n",
            "False Negatives (FN): 266\n",
            "Precision: 0.99\n",
            "Recall: 0.99\n",
            "F1-Score: 0.99\n",
            "True Positives (TP): 31859\n",
            "False Positives (FP): 57\n",
            "False Negatives (FN): 36\n",
            "Precision: 1.00\n",
            "Recall: 1.00\n",
            "F1-Score: 1.00\n",
            "True Positives (TP): 31867\n",
            "False Positives (FP): 32\n",
            "False Negatives (FN): 28\n",
            "Precision: 1.00\n",
            "Recall: 1.00\n",
            "F1-Score: 1.00\n",
            "True Positives (TP): 31876\n",
            "False Positives (FP): 4\n",
            "False Negatives (FN): 19\n",
            "Precision: 1.00\n",
            "Recall: 1.00\n",
            "F1-Score: 1.00\n",
            "True Positives (TP): 31881\n",
            "False Positives (FP): 5\n",
            "False Negatives (FN): 14\n",
            "Precision: 1.00\n",
            "Recall: 1.00\n",
            "F1-Score: 1.00\n",
            "True Positives (TP): 31886\n",
            "False Positives (FP): 6\n",
            "False Negatives (FN): 9\n",
            "Precision: 1.00\n",
            "Recall: 1.00\n",
            "F1-Score: 1.00\n",
            "True Positives (TP): 31886\n",
            "False Positives (FP): 4\n",
            "False Negatives (FN): 9\n",
            "Precision: 1.00\n",
            "Recall: 1.00\n",
            "F1-Score: 1.00\n",
            "True Positives (TP): 31888\n",
            "False Positives (FP): 2\n",
            "False Negatives (FN): 7\n",
            "Precision: 1.00\n",
            "Recall: 1.00\n",
            "F1-Score: 1.00\n",
            "True Positives (TP): 31888\n",
            "False Positives (FP): 2\n",
            "False Negatives (FN): 7\n",
            "Precision: 1.00\n",
            "Recall: 1.00\n",
            "F1-Score: 1.00\n"
          ]
        },
        {
          "output_type": "display_data",
          "data": {
            "text/plain": [
              "<IPython.core.display.HTML object>"
            ],
            "text/html": [
              "\n",
              "    <div>\n",
              "      \n",
              "      <progress value='123' max='123' style='width:300px; height:20px; vertical-align: middle;'></progress>\n",
              "      [123/123 00:01]\n",
              "    </div>\n",
              "    "
            ]
          },
          "metadata": {}
        },
        {
          "output_type": "stream",
          "name": "stdout",
          "text": [
            "True Positives (TP): 31888\n",
            "False Positives (FP): 2\n",
            "False Negatives (FN): 7\n",
            "Precision: 1.00\n",
            "Recall: 1.00\n",
            "F1-Score: 1.00\n"
          ]
        },
        {
          "output_type": "execute_result",
          "data": {
            "text/plain": [
              "{'eval_loss': 0.00013405214122030884,\n",
              " 'eval_precision': 0.999951640363017,\n",
              " 'eval_recall': 0.9998516277263109,\n",
              " 'eval_f1': 0.9999016299387892,\n",
              " 'eval_runtime': 2.7193,\n",
              " 'eval_samples_per_second': 718.923,\n",
              " 'eval_steps_per_second': 45.231,\n",
              " 'epoch': 10.0}"
            ]
          },
          "metadata": {},
          "execution_count": 49
        }
      ]
    },
    {
      "cell_type": "code",
      "source": [
        "import torch\n",
        "\n",
        "# Example data\n",
        "example = {\n",
        "    \"Passage\": \"The patient showed symptoms of anemia and was treated with iron supplements.\",\n",
        "    \"Start Offset\": 29,\n",
        "    \"End Offset\": 35,  # The entity \"anemia\"\n",
        "}\n",
        "\n",
        "# Tokenize the example\n",
        "tokenized_example = tokenizer(\n",
        "    example[\"Passage\"],\n",
        "    truncation=True,\n",
        "    padding=\"max_length\",\n",
        "    max_length=256,\n",
        "    return_offsets_mapping=True,\n",
        ")\n",
        "\n",
        "# Extract offset mapping and input IDs\n",
        "offset_mapping = tokenized_example.pop(\"offset_mapping\")\n",
        "input_ids = tokenized_example[\"input_ids\"]\n",
        "\n",
        "# Assign labels using offsets\n",
        "labels = [0] * len(offset_mapping)  # Default to 'O' (outside the entity)\n",
        "\n",
        "current_entity = False\n",
        "for idx, (start, end) in enumerate(offset_mapping):\n",
        "    # Ignore special tokens with (0, 0) offsets\n",
        "    if start == 0 and end == 0:\n",
        "        continue\n",
        "\n",
        "    # Check if token is part of the entity\n",
        "    if start >= example[\"Start Offset\"] and end <= example[\"End Offset\"]:\n",
        "        if not current_entity:\n",
        "            labels[idx] = 1  # B-Symptom (beginning of the entity)\n",
        "            current_entity = True\n",
        "        else:\n",
        "            labels[idx] = 2  # I-Symptom (inside the entity)\n",
        "    elif current_entity and start > example[\"End Offset\"]:\n",
        "        current_entity = False\n",
        "\n",
        "# Replace padding token labels with -100 to ignore during training\n",
        "labels = [\n",
        "    label if token_id != tokenizer.pad_token_id else -100\n",
        "    for token_id, label in zip(input_ids, labels)\n",
        "]\n",
        "\n",
        "# Add labels back to the tokenized example\n",
        "tokenized_example[\"labels\"] = labels\n",
        "\n",
        "# Convert the tokenized example into a batch format\n",
        "batch = {key: torch.tensor([value]).to(\"cuda\" if torch.cuda.is_available() else \"cpu\") for key, value in tokenized_example.items()}\n",
        "\n",
        "# Move model to appropriate device\n",
        "device = torch.device(\"cuda\" if torch.cuda.is_available() else \"cpu\")\n",
        "model = model.to(device)\n",
        "\n",
        "# Perform prediction\n",
        "model.eval()\n",
        "with torch.no_grad():\n",
        "    output = model(**batch)\n",
        "\n",
        "# Get predictions\n",
        "predictions = output.logits.argmax(dim=-1).squeeze().tolist()\n",
        "tokens = tokenizer.convert_ids_to_tokens(batch[\"input_ids\"].squeeze().tolist())\n",
        "\n",
        "# Print tokens, predictions, and labels\n",
        "print(\"Tokens:\", tokens)\n",
        "print(\"Predictions:\", predictions)\n",
        "print(\"Labels:\", labels)\n"
      ],
      "metadata": {
        "colab": {
          "base_uri": "https://localhost:8080/"
        },
        "id": "TGUuPbfbHT2j",
        "outputId": "6f7d3e92-ded2-4469-bc23-f27863393914"
      },
      "execution_count": null,
      "outputs": [
        {
          "output_type": "stream",
          "name": "stdout",
          "text": [
            "Tokens: ['[CLS]', 'the', 'patient', 'showed', 'symptoms', 'of', 'ane', '##mia', 'and', 'was', 'treated', 'with', 'iron', 'supplement', '##s', '.', '[SEP]', '[PAD]', '[PAD]', '[PAD]', '[PAD]', '[PAD]', '[PAD]', '[PAD]', '[PAD]', '[PAD]', '[PAD]', '[PAD]', '[PAD]', '[PAD]', '[PAD]', '[PAD]', '[PAD]', '[PAD]', '[PAD]', '[PAD]', '[PAD]', '[PAD]', '[PAD]', '[PAD]', '[PAD]', '[PAD]', '[PAD]', '[PAD]', '[PAD]', '[PAD]', '[PAD]', '[PAD]', '[PAD]', '[PAD]', '[PAD]', '[PAD]', '[PAD]', '[PAD]', '[PAD]', '[PAD]', '[PAD]', '[PAD]', '[PAD]', '[PAD]', '[PAD]', '[PAD]', '[PAD]', '[PAD]', '[PAD]', '[PAD]', '[PAD]', '[PAD]', '[PAD]', '[PAD]', '[PAD]', '[PAD]', '[PAD]', '[PAD]', '[PAD]', '[PAD]', '[PAD]', '[PAD]', '[PAD]', '[PAD]', '[PAD]', '[PAD]', '[PAD]', '[PAD]', '[PAD]', '[PAD]', '[PAD]', '[PAD]', '[PAD]', '[PAD]', '[PAD]', '[PAD]', '[PAD]', '[PAD]', '[PAD]', '[PAD]', '[PAD]', '[PAD]', '[PAD]', '[PAD]', '[PAD]', '[PAD]', '[PAD]', '[PAD]', '[PAD]', '[PAD]', '[PAD]', '[PAD]', '[PAD]', '[PAD]', '[PAD]', '[PAD]', '[PAD]', '[PAD]', '[PAD]', '[PAD]', '[PAD]', '[PAD]', '[PAD]', '[PAD]', '[PAD]', '[PAD]', '[PAD]', '[PAD]', '[PAD]', '[PAD]', '[PAD]', '[PAD]', '[PAD]', '[PAD]', '[PAD]', '[PAD]', '[PAD]', '[PAD]', '[PAD]', '[PAD]', '[PAD]', '[PAD]', '[PAD]', '[PAD]', '[PAD]', '[PAD]', '[PAD]', '[PAD]', '[PAD]', '[PAD]', '[PAD]', '[PAD]', '[PAD]', '[PAD]', '[PAD]', '[PAD]', '[PAD]', '[PAD]', '[PAD]', '[PAD]', '[PAD]', '[PAD]', '[PAD]', '[PAD]', '[PAD]', '[PAD]', '[PAD]', '[PAD]', '[PAD]', '[PAD]', '[PAD]', '[PAD]', '[PAD]', '[PAD]', '[PAD]', '[PAD]', '[PAD]', '[PAD]', '[PAD]', '[PAD]', '[PAD]', '[PAD]', '[PAD]', '[PAD]', '[PAD]', '[PAD]', '[PAD]', '[PAD]', '[PAD]', '[PAD]', '[PAD]', '[PAD]', '[PAD]', '[PAD]', '[PAD]', '[PAD]', '[PAD]', '[PAD]', '[PAD]', '[PAD]', '[PAD]', '[PAD]', '[PAD]', '[PAD]', '[PAD]', '[PAD]', '[PAD]', '[PAD]', '[PAD]', '[PAD]', '[PAD]', '[PAD]', '[PAD]', '[PAD]', '[PAD]', '[PAD]', '[PAD]', '[PAD]', '[PAD]', '[PAD]', '[PAD]', '[PAD]', '[PAD]', '[PAD]', '[PAD]', '[PAD]', '[PAD]', '[PAD]', '[PAD]', '[PAD]', '[PAD]', '[PAD]', '[PAD]', '[PAD]', '[PAD]', '[PAD]', '[PAD]', '[PAD]', '[PAD]', '[PAD]', '[PAD]', '[PAD]', '[PAD]', '[PAD]', '[PAD]', '[PAD]', '[PAD]', '[PAD]', '[PAD]', '[PAD]', '[PAD]', '[PAD]', '[PAD]', '[PAD]', '[PAD]', '[PAD]', '[PAD]', '[PAD]', '[PAD]', '[PAD]']\n",
            "Predictions: [0, 0, 0, 0, 0, 0, 1, 2, 0, 0, 0, 0, 0, 0, 0, 0, 0, 0, 0, 0, 0, 0, 0, 0, 0, 0, 0, 0, 0, 0, 0, 0, 0, 0, 0, 0, 0, 0, 0, 0, 0, 0, 0, 0, 0, 0, 0, 0, 0, 0, 0, 0, 0, 0, 0, 0, 0, 0, 0, 0, 0, 0, 0, 0, 0, 0, 0, 0, 0, 0, 0, 0, 0, 0, 0, 0, 0, 0, 0, 0, 0, 0, 0, 0, 0, 0, 0, 0, 0, 0, 0, 0, 0, 0, 0, 0, 0, 0, 0, 0, 0, 0, 0, 0, 0, 0, 0, 0, 0, 0, 0, 0, 0, 0, 0, 0, 0, 0, 0, 0, 0, 0, 0, 0, 0, 0, 0, 0, 0, 0, 0, 0, 0, 0, 0, 0, 0, 0, 0, 0, 0, 0, 0, 0, 0, 0, 0, 0, 0, 0, 0, 0, 0, 0, 0, 0, 0, 0, 0, 0, 0, 0, 0, 0, 0, 0, 0, 0, 0, 0, 0, 0, 0, 0, 0, 0, 0, 0, 0, 0, 0, 0, 0, 0, 0, 0, 0, 0, 0, 0, 0, 0, 0, 0, 0, 0, 0, 0, 0, 0, 0, 0, 0, 0, 0, 0, 0, 0, 0, 0, 0, 0, 0, 0, 0, 0, 0, 0, 0, 0, 0, 0, 0, 0, 0, 0, 0, 0, 0, 0, 0, 0, 0, 0, 0, 0, 0, 0, 0, 0, 0, 0, 0, 0, 0, 0, 0, 0, 0, 0, 0, 0, 0, 0, 0, 0]\n",
            "Labels: [0, 0, 0, 0, 0, 0, 1, 0, 0, 0, 0, 0, 0, 0, 0, 0, 0, -100, -100, -100, -100, -100, -100, -100, -100, -100, -100, -100, -100, -100, -100, -100, -100, -100, -100, -100, -100, -100, -100, -100, -100, -100, -100, -100, -100, -100, -100, -100, -100, -100, -100, -100, -100, -100, -100, -100, -100, -100, -100, -100, -100, -100, -100, -100, -100, -100, -100, -100, -100, -100, -100, -100, -100, -100, -100, -100, -100, -100, -100, -100, -100, -100, -100, -100, -100, -100, -100, -100, -100, -100, -100, -100, -100, -100, -100, -100, -100, -100, -100, -100, -100, -100, -100, -100, -100, -100, -100, -100, -100, -100, -100, -100, -100, -100, -100, -100, -100, -100, -100, -100, -100, -100, -100, -100, -100, -100, -100, -100, -100, -100, -100, -100, -100, -100, -100, -100, -100, -100, -100, -100, -100, -100, -100, -100, -100, -100, -100, -100, -100, -100, -100, -100, -100, -100, -100, -100, -100, -100, -100, -100, -100, -100, -100, -100, -100, -100, -100, -100, -100, -100, -100, -100, -100, -100, -100, -100, -100, -100, -100, -100, -100, -100, -100, -100, -100, -100, -100, -100, -100, -100, -100, -100, -100, -100, -100, -100, -100, -100, -100, -100, -100, -100, -100, -100, -100, -100, -100, -100, -100, -100, -100, -100, -100, -100, -100, -100, -100, -100, -100, -100, -100, -100, -100, -100, -100, -100, -100, -100, -100, -100, -100, -100, -100, -100, -100, -100, -100, -100, -100, -100, -100, -100, -100, -100, -100, -100, -100, -100, -100, -100, -100, -100, -100, -100, -100, -100]\n"
          ]
        }
      ]
    },
    {
      "cell_type": "code",
      "source": [
        "\n",
        "import matplotlib.pyplot as plt\n",
        "\n",
        "# Data for the visualization\n",
        "epochs = list(range(1, 11))\n",
        "training_loss = [None, None, 0.169800, 0.169800, 0.002000, 0.002000, 0.000500, 0.000500, 0.000300, 0.000300]\n",
        "validation_loss = [0.053672, 0.003624, 0.000803, 0.000564, 0.000337, 0.000238, 0.000196, 0.000152, 0.000135, 0.000134]\n",
        "\n",
        "# Plot the loss curves\n",
        "plt.figure(figsize=(8, 6))\n",
        "plt.plot(epochs[2:], training_loss[2:], label=\"Training Loss\", marker=\"o\", linewidth=2, markersize=6)\n",
        "plt.plot(epochs, validation_loss, label=\"Validation Loss\", marker=\"s\", linewidth=2, markersize=6)\n",
        "\n",
        "# Adding titles and labels\n",
        "plt.title(\"Training and Validation Loss Over Epochs\")\n",
        "plt.xlabel(\"Epoch\")\n",
        "plt.ylabel(\"Loss\")\n",
        "plt.legend(loc=\"upper right\", frameon=True, shadow=True)\n",
        "plt.grid(alpha=0.4)\n",
        "plt.tight_layout()\n",
        "\n",
        "# Display the visualization\n",
        "plt.show()\n"
      ],
      "metadata": {
        "colab": {
          "base_uri": "https://localhost:8080/",
          "height": 607
        },
        "id": "BzwsP03Zsod2",
        "outputId": "6ab02f61-b3d1-4adc-b760-8b6f5bf918fc"
      },
      "execution_count": 72,
      "outputs": [
        {
          "output_type": "display_data",
          "data": {
            "text/plain": [
              "<Figure size 800x600 with 1 Axes>"
            ],
            "image/png": "[encoded data removed]"
          },
          "metadata": {}
        }
      ]
    },
    {
      "cell_type": "code",
      "source": [],
      "metadata": {
        "id": "W9pJ3lNN9-yi"
      },
      "execution_count": null,
      "outputs": []
    }
  ]
}